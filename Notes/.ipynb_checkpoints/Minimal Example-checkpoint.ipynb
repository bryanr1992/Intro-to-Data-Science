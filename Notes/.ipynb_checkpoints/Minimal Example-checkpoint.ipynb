{
 "cells": [
  {
   "cell_type": "markdown",
   "id": "c0d33908",
   "metadata": {},
   "source": [
    "# Simple Linear Regression. Minimal example"
   ]
  },
  {
   "cell_type": "markdown",
   "id": "4e244a3a",
   "metadata": {},
   "source": [
    "### Import the relevant libraries"
   ]
  },
  {
   "cell_type": "code",
   "execution_count": 55,
   "id": "215d1643",
   "metadata": {},
   "outputs": [],
   "source": [
    "import numpy as np\n",
    "from matplotlib import pyplot as plt\n",
    "from mpl_toolkits.mplot3d import Axes3D"
   ]
  },
  {
   "cell_type": "markdown",
   "id": "e9da641f",
   "metadata": {},
   "source": [
    "### Generate random input data to train on"
   ]
  },
  {
   "cell_type": "code",
   "execution_count": 56,
   "id": "b8549bbb",
   "metadata": {},
   "outputs": [
    {
     "name": "stdout",
     "output_type": "stream",
     "text": [
      "(1000, 2)\n"
     ]
    }
   ],
   "source": [
    "# This is fake data with a linear relationship to prove our approache\n",
    "\n",
    "observations = 1000\n",
    "\n",
    "#f(x,z) = a*x + b*z + c\n",
    "xs = np.random.uniform(low=-10,high=10,size=(observations,1))\n",
    "zs  = np.random.uniform(-10,10,(observations,1))\n",
    "\n",
    "inputs = np.column_stack((xs,zs))\n",
    "\n",
    "print(inputs.shape)"
   ]
  },
  {
   "cell_type": "markdown",
   "id": "0d167ad8",
   "metadata": {},
   "source": [
    "### Create the targets we will aim at"
   ]
  },
  {
   "cell_type": "code",
   "execution_count": 89,
   "id": "405fc1f2",
   "metadata": {},
   "outputs": [
    {
     "name": "stdout",
     "output_type": "stream",
     "text": [
      "(1000, 1)\n"
     ]
    }
   ],
   "source": [
    "# targets = f(x,z) = 2*x - 3*z + 5 + noise. We introduce noise because real da-\n",
    "# ta is never perfect, there is always some noise. Even with the noise the \n",
    "# underlying linear relationship will remain.\n",
    "\n",
    "noise = np.random.uniform(-1,1,(observations,1))\n",
    "targets = 2*xs - 3*zs + 5 + noise\n",
    "\n",
    "print(targets.shape)\n"
   ]
  },
  {
   "cell_type": "markdown",
   "id": "f7fc892e",
   "metadata": {},
   "source": [
    "### Plot the training data\n",
    "\n",
    "The point is to see that there is a strong trend that our model should learn to reproduce"
   ]
  },
  {
   "cell_type": "code",
   "execution_count": 90,
   "id": "7c20ae60",
   "metadata": {},
   "outputs": [
    {
     "data": {
      "image/png": "[encoded data removed]",
      "text/plain": [
       "<Figure size 432x288 with 1 Axes>"
      ]
     },
     "metadata": {
      "needs_background": "light"
     },
     "output_type": "display_data"
    }
   ],
   "source": [
    "targets= targets.reshape(observations,)\n",
    "xs = xs.reshape(observations,)\n",
    "fig = plt.figure()\n",
    "ax = fig.add_subplot(111, projection='3d')\n",
    "ax.plot(xs,zs,targets)\n",
    "ax.set_xlabel('xs')\n",
    "ax.set_ylabel('zs')\n",
    "ax.set_zlabel('Targets')\n",
    "ax.view_init(azim=100)\n",
    "plt.show()\n",
    "targets = targets.reshape(observations,1)\n",
    "xs = xs.reshape(observations,1)\n",
    "\n",
    "# In 3D linear relationships are a plane and in 2D a straight line"
   ]
  },
  {
   "cell_type": "markdown",
   "id": "487c7a62",
   "metadata": {},
   "source": [
    "### Initialize variables"
   ]
  },
  {
   "cell_type": "code",
   "execution_count": 91,
   "id": "14b02968",
   "metadata": {},
   "outputs": [
    {
     "name": "stdout",
     "output_type": "stream",
     "text": [
      "(2, 1)\n",
      "(1,)\n",
      "[[ 0.0971459 ]\n",
      " [-0.03902927]]\n",
      "[0.02551578]\n"
     ]
    }
   ],
   "source": [
    "# We are going to pick our initial weights and biases randomly from the int-\n",
    "# erval [-0.1,0.1]\n",
    "\n",
    "init_range = 0.1\n",
    "\n",
    "weights = np.random.uniform(-init_range, init_range, size=(2,1))\n",
    "biases = np.random.uniform(-init_range, init_range, size=1)\n",
    "\n",
    "print(weights.shape)\n",
    "print(biases.shape)\n",
    "\n",
    "print(weights)\n",
    "print(biases)"
   ]
  },
  {
   "cell_type": "markdown",
   "id": "43efa66c",
   "metadata": {},
   "source": [
    "### Set a learning rate"
   ]
  },
  {
   "cell_type": "code",
   "execution_count": 92,
   "id": "519587b8",
   "metadata": {},
   "outputs": [],
   "source": [
    "eta = 0.02"
   ]
  },
  {
   "cell_type": "markdown",
   "id": "5521506c",
   "metadata": {},
   "source": [
    "### Train the model"
   ]
  },
  {
   "cell_type": "code",
   "execution_count": 94,
   "id": "b7a495c8",
   "metadata": {},
   "outputs": [
    {
     "name": "stdout",
     "output_type": "stream",
     "text": [
      "0.3840161644194035\n",
      "0.37535451837409267\n",
      "0.3670353409501008\n",
      "0.3590450914467379\n",
      "0.3513707645425088\n",
      "0.34399986912701763\n",
      "0.33692040796982115\n",
      "0.33012085819315323\n",
      "0.3235901525167205\n",
      "0.3173176612440571\n",
      "0.3112931749611096\n",
      "0.3055068879188928\n",
      "0.2999493820731763\n",
      "0.2946116117552109\n",
      "0.2894848889485555\n",
      "0.2845608691480376\n",
      "0.27983153777782627\n",
      "0.27528919714651684\n",
      "0.2709264539179907\n",
      "0.2667362070776602\n",
      "0.26271163637450784\n",
      "0.25884619122011454\n",
      "0.25513358002659675\n",
      "0.25156775996611386\n",
      "0.24814292713526406\n",
      "0.24485350710836531\n",
      "0.24169414586425014\n",
      "0.2386597010717953\n",
      "0.2357452337200149\n",
      "0.23294600007908148\n",
      "0.23025744397920045\n",
      "0.22767518939476453\n",
      "0.22519503332172008\n",
      "0.2228129389365523\n",
      "0.2205250290257527\n",
      "0.21832757967507727\n",
      "0.21621701420832024\n",
      "0.21418989736574198\n",
      "0.2122429297126712\n",
      "0.21037294226918296\n",
      "0.20857689135211327\n",
      "0.20685185362100977\n",
      "0.20519502131996026\n",
      "0.20360369770755118\n",
      "0.20207529266752008\n",
      "0.20060731849295502\n",
      "0.19919738583718039\n",
      "0.1978431998247401\n",
      "0.19654255631614553\n",
      "0.19529333832030982\n",
      "0.19409351254883003\n",
      "0.19294112610650685\n",
      "0.19183430331271703\n",
      "0.19077124264846373\n",
      "0.18975021382413582\n",
      "0.1887695549632034\n",
      "0.187827669897267\n",
      "0.18692302556805498\n",
      "0.18605414953214272\n",
      "0.1852196275643326\n",
      "0.18441810135579062\n",
      "0.1836482663031969\n",
      "0.1829088693853095\n",
      "0.18219870712348524\n",
      "0.18151662362283974\n",
      "0.18086150869085527\n",
      "0.18023229603037766\n",
      "0.17962796150405885\n",
      "0.17904752146742023\n",
      "0.1784900311678255\n",
      "0.17795458320675403\n",
      "0.17744030606287584\n",
      "0.17694636267351946\n",
      "0.17647194907222832\n",
      "0.17601629308018607\n",
      "0.17557865304937967\n",
      "0.17515831665545728\n",
      "0.1747545997383135\n",
      "0.1743668451885183\n",
      "0.17399442187777203\n",
      "0.17363672363165106\n",
      "0.1732931682429682\n",
      "0.17296319652414352\n",
      "0.17264627139704403\n",
      "0.17234187701880804\n",
      "0.1720495179422349\n",
      "0.1717687183093703\n",
      "0.17149902107697687\n",
      "0.17123998727262796\n",
      "0.17099119528021478\n",
      "0.17075224015370352\n",
      "0.17052273295802506\n",
      "0.1703023001360251\n",
      "0.1700905829004447\n",
      "0.16988723664994035\n",
      "0.1696919304081937\n",
      "0.1695043462851987\n",
      "0.16932417895984778\n",
      "0.16915113518297684\n",
      "0.16898493330005793\n"
     ]
    }
   ],
   "source": [
    "for i in range (100):\n",
    "    outputs = np.dot(inputs,weights) + biases\n",
    "    deltas = outputs - targets\n",
    "    \n",
    "    #Calculate loss with L2 norm\n",
    "    #We divide by 2 because of the derivation for the gradient descent\n",
    "    #We divide by the observations to get the mean loss\n",
    "    loss = np.sum(deltas**2)/2/observations\n",
    "    \n",
    "    print(loss)\n",
    "    \n",
    "    #update weights and biases\n",
    "    \n",
    "    deltas_scaled = deltas/observations\n",
    "    \n",
    "    weights = weights - eta*np.dot(inputs.T,deltas_scaled)\n",
    "    biases = biases - eta*np.sum(deltas_scaled)"
   ]
  },
  {
   "cell_type": "markdown",
   "id": "9ae1d077",
   "metadata": {},
   "source": [
    "### print weights and biases and see if they have worked correctly"
   ]
  },
  {
   "cell_type": "code",
   "execution_count": 95,
   "id": "ea456916",
   "metadata": {},
   "outputs": [
    {
     "name": "stdout",
     "output_type": "stream",
     "text": [
      "[[ 1.99740882]\n",
      " [-3.00360032]] [4.90468564]\n"
     ]
    }
   ],
   "source": [
    "print(weights, biases)\n",
    "# Recall our targets were defined by t = f(x,z) = 2*xs - 3*zs + 5 + noise"
   ]
  },
  {
   "cell_type": "markdown",
   "id": "fcf75ac6",
   "metadata": {},
   "source": [
    "### Plot last output vs targets\n",
    "\n",
    "Since the are the last ones at the end of the training, they represent the final model accuracy. The closer this plot is to a 45 degree line, the closer target and output values are."
   ]
  },
  {
   "cell_type": "code",
   "execution_count": 96,
   "id": "6155d343",
   "metadata": {},
   "outputs": [
    {
     "data": {
      "image/png": "[encoded data removed]",
      "text/plain": [
       "<Figure size 432x288 with 1 Axes>"
      ]
     },
     "metadata": {
      "needs_background": "light"
     },
     "output_type": "display_data"
    }
   ],
   "source": [
    "plt.plot(outputs, targets)\n",
    "plt.xlabel('outputs')\n",
    "plt.ylabel('targets')\n",
    "plt.show()"
   ]
  },
  {
   "cell_type": "code",
   "execution_count": 54,
   "id": "e64abbdf",
   "metadata": {},
   "outputs": [],
   "source": [
    "# We can see that we indeed have a linear relationship"
   ]
  }
 ],
 "metadata": {
  "kernelspec": {
   "display_name": "pytf2.0",
   "language": "python",
   "name": "pytf2.0"
  },
  "language_info": {
   "codemirror_mode": {
    "name": "ipython",
    "version": 3
   },
   "file_extension": ".py",
   "mimetype": "text/x-python",
   "name": "python",
   "nbconvert_exporter": "python",
   "pygments_lexer": "ipython3",
   "version": "3.10.0"
  }
 },
 "nbformat": 4,
 "nbformat_minor": 5
}
