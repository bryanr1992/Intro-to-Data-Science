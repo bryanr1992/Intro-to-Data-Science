{
 "cells": [
  {
   "cell_type": "markdown",
   "id": "496f14f2",
   "metadata": {},
   "source": [
    "# Actual TensorFlow Intro"
   ]
  },
  {
   "cell_type": "code",
   "execution_count": 1,
   "id": "0bb94d70",
   "metadata": {},
   "outputs": [],
   "source": [
    "import numpy as np\n",
    "import matplotlib.pyplot as plt\n",
    "import tensorflow as tf"
   ]
  },
  {
   "cell_type": "markdown",
   "id": "1a60bc10",
   "metadata": {},
   "source": [
    "## Data generation"
   ]
  },
  {
   "cell_type": "code",
   "execution_count": 6,
   "id": "68630dea",
   "metadata": {},
   "outputs": [],
   "source": [
    "observations = 1000\n",
    "\n",
    "xs = np.random.uniform(low=-10, high=10, size=(observations,1))\n",
    "zs = np.random.uniform(-10,10,(observations,1))\n",
    "\n",
    "generated_inputs = np.column_stack((xs,zs))\n",
    "\n",
    "noise = np.random.uniform(-1,1,(observations,1))\n",
    "\n",
    "generated_targets = 2*xs - 3*zs + 5 + noise\n",
    "\n",
    "np.savez('TF_intro', inputs=generated_inputs, targets=generated_targets)\n",
    "#Not necesary for the names to be inputs and targets, we can call it whatever"
   ]
  },
  {
   "cell_type": "markdown",
   "id": "07f6a217",
   "metadata": {},
   "source": [
    "## Solving with TensorFlow"
   ]
  },
  {
   "cell_type": "code",
   "execution_count": 7,
   "id": "0b7fb8fa",
   "metadata": {},
   "outputs": [],
   "source": [
    "training_data = np.load('TF_intro.npz')"
   ]
  },
  {
   "cell_type": "code",
   "execution_count": 10,
   "id": "eb0be0a4",
   "metadata": {},
   "outputs": [],
   "source": [
    "input_size = 2\n",
    "output_size = 1\n",
    "\n",
    "model = tf.keras.Sequential([\n",
    "                            tf.keras.layers.Dense(output_size)\n",
    "                            ])\n",
    "\n",
    "model.compile(optimizer='sgd',loss='mean_squared_error')\n",
    "\n",
    "model.fit(training_data['inputs'], training_data[t])"
   ]
  },
  {
   "cell_type": "code",
   "execution_count": null,
   "id": "1edab375",
   "metadata": {},
   "outputs": [],
   "source": []
  }
 ],
 "metadata": {
  "kernelspec": {
   "display_name": "pytf2.0",
   "language": "python",
   "name": "pytf2.0"
  },
  "language_info": {
   "codemirror_mode": {
    "name": "ipython",
    "version": 3
   },
   "file_extension": ".py",
   "mimetype": "text/x-python",
   "name": "python",
   "nbconvert_exporter": "python",
   "pygments_lexer": "ipython3",
   "version": "3.10.0"
  }
 },
 "nbformat": 4,
 "nbformat_minor": 5
}
