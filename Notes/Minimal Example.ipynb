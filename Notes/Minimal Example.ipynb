{
 "cells": [
  {
   "cell_type": "markdown",
   "id": "42b156d4",
   "metadata": {},
   "source": [
    "# Simple Linear Regression. Minimal example"
   ]
  },
  {
   "cell_type": "markdown",
   "id": "3b391cad",
   "metadata": {},
   "source": [
    "### Import the relevant libraries"
   ]
  },
  {
   "cell_type": "code",
   "execution_count": 12,
   "id": "50f00fdb",
   "metadata": {},
   "outputs": [],
   "source": [
    "import numpy as np\n",
    "from matplotlib import pyplot as plt\n",
    "from mpl_toolkits.mplot3d import Axes3D"
   ]
  },
  {
   "cell_type": "markdown",
   "id": "c63f2a3e",
   "metadata": {},
   "source": [
    "### Generate random input data to train on"
   ]
  },
  {
   "cell_type": "code",
   "execution_count": 13,
   "id": "1d138894",
   "metadata": {},
   "outputs": [
    {
     "name": "stdout",
     "output_type": "stream",
     "text": [
      "(1000, 2)\n"
     ]
    }
   ],
   "source": [
    "# This is fake data with a linear relationship to prove our approache\n",
    "\n",
    "observations = 1000\n",
    "\n",
    "#f(x,z) = a*x + b*z + c\n",
    "xs = np.random.uniform(low=-10,high=10,size=(observations,1))\n",
    "zs  = np.random.uniform(-10,10,(observations,1))\n",
    "\n",
    "inputs = np.column_stack((xs,zs))\n",
    "\n",
    "print(inputs.shape)"
   ]
  },
  {
   "cell_type": "markdown",
   "id": "650200a7",
   "metadata": {},
   "source": [
    "### Create the targets we will aim at"
   ]
  },
  {
   "cell_type": "code",
   "execution_count": 14,
   "id": "cc423794",
   "metadata": {},
   "outputs": [
    {
     "name": "stdout",
     "output_type": "stream",
     "text": [
      "(1000, 1)\n"
     ]
    }
   ],
   "source": [
    "# targets = f(x,z) = 2*x - 3*z + 5 + noise. We introduce noise because real da-\n",
    "# ta is never perfect, there is always some noise. Even with the noise the \n",
    "# underlying linear relationship will remain.\n",
    "\n",
    "noise = np.random.uniform(-1,1,(observations,1))\n",
    "targets = 2*xs - 3*zs + 5 + noise\n",
    "\n",
    "print(targets.shape)\n"
   ]
  },
  {
   "cell_type": "markdown",
   "id": "882d0a9a",
   "metadata": {},
   "source": [
    "### Plot the training data\n",
    "\n",
    "The point is to see that there is a strong trend that our model should learn to reproduce"
   ]
  },
  {
   "cell_type": "code",
   "execution_count": 22,
   "id": "e437365d",
   "metadata": {},
   "outputs": [
    {
     "data": {
      "image/png": "[encoded data removed]",
      "text/plain": [
       "<Figure size 432x288 with 1 Axes>"
      ]
     },
     "metadata": {
      "needs_background": "light"
     },
     "output_type": "display_data"
    }
   ],
   "source": [
    "targets= targets.reshape(observations,)\n",
    "xs = xs.reshape(observations,)\n",
    "fig = plt.figure()\n",
    "ax = fig.add_subplot(111, projection='3d')\n",
    "ax.plot(xs,zs,targets)\n",
    "ax.set_xlabel('xs')\n",
    "ax.set_ylabel('zs')\n",
    "ax.set_zlabel('Targets')\n",
    "ax.view_init(azim=100)\n",
    "plt.show()\n",
    "targets = targets.reshape(observations,1)\n",
    "xs = xs.reshape(observations,1)\n",
    "\n",
    "# In 3D linear relationships are a plane and in 2D a straight line"
   ]
  },
  {
   "cell_type": "markdown",
   "id": "ae670354",
   "metadata": {},
   "source": [
    "### Initialize variables"
   ]
  },
  {
   "cell_type": "code",
   "execution_count": 26,
   "id": "197fceb3",
   "metadata": {},
   "outputs": [
    {
     "name": "stdout",
     "output_type": "stream",
     "text": [
      "(2, 1)\n",
      "(1,)\n",
      "[[ 0.08340617]\n",
      " [-0.0430964 ]]\n",
      "[-0.03059204]\n"
     ]
    }
   ],
   "source": [
    "# We are going to pick our initial weights and biases randomly from the int-\n",
    "# erval [-0.1,0.1]\n",
    "\n",
    "init_range = 0.1\n",
    "\n",
    "weights = np.random.uniform(-init_range, init_range, size=(2,1))\n",
    "biases = np.random.uniform(-init_range, init_range, size=1)\n",
    "\n",
    "print(weights.shape)\n",
    "print(biases.shape)\n",
    "\n",
    "print(weights)\n",
    "print(biases)"
   ]
  },
  {
   "cell_type": "markdown",
   "id": "79bc9d2d",
   "metadata": {},
   "source": [
    "### Set a learning rate"
   ]
  },
  {
   "cell_type": "code",
   "execution_count": 27,
   "id": "a00f5acf",
   "metadata": {},
   "outputs": [],
   "source": [
    "eta = 0.02"
   ]
  },
  {
   "cell_type": "markdown",
   "id": "8bc9c8db",
   "metadata": {},
   "source": [
    "### Train the model"
   ]
  },
  {
   "cell_type": "code",
   "execution_count": 30,
   "id": "a9e885e9",
   "metadata": {},
   "outputs": [
    {
     "name": "stdout",
     "output_type": "stream",
     "text": [
      "229.58495965299494\n",
      "35.09917004844859\n",
      "14.312915969915368\n",
      "11.548047197251737\n",
      "10.831571578748166\n",
      "10.37729297876419\n",
      "9.970516278675824\n",
      "9.583636502297413\n",
      "9.212524274705768\n",
      "8.856114676495258\n",
      "8.513768575239343\n",
      "8.184923405114596\n",
      "7.869045703687365\n",
      "7.565623980158082\n",
      "7.274167040044164\n",
      "6.9942030752540685\n",
      "6.725278884763473\n",
      "6.4669591388684955\n",
      "6.218825674194865\n",
      "5.980476816743614\n",
      "5.751526731663114\n",
      "5.531604798665838\n",
      "5.320355012074781\n",
      "5.1174354045278685\n",
      "4.922517493407297\n",
      "4.735285749097813\n",
      "4.55543708421299\n",
      "4.382680362962835\n",
      "4.216735929868401\n",
      "4.057335157060503\n",
      "3.904220009429756\n",
      "3.757142626923961\n",
      "3.6158649233167264\n",
      "3.4801582007977294\n",
      "3.3498027797608256\n",
      "3.2245876431906413\n",
      "3.1043100950720155\n",
      "2.9887754322693283\n",
      "2.877796629344569\n",
      "2.7711940358039033\n",
      "2.6687950852826856\n",
      "2.570434016198125\n",
      "2.4759516034174105\n",
      "2.385194900506925\n",
      "2.298016992145298\n",
      "2.2142767562995345\n",
      "2.1338386357791905\n",
      "2.0565724187988277\n",
      "1.9823530281935176\n",
      "1.9110603189461681\n",
      "1.8425788836989276\n",
      "1.7767978659338306\n",
      "1.713610780520247\n",
      "1.652915341338674\n",
      "1.5946132957017953\n",
      "1.5386102653048008\n",
      "1.4848155934474732\n",
      "1.4331421982807568\n",
      "1.3835064318402213\n",
      "1.3358279446382353\n",
      "1.2900295555956613\n",
      "1.246037127102514\n",
      "1.2037794450053179\n",
      "1.1631881033269247\n",
      "1.124197393532137\n",
      "1.0867441981599217\n",
      "1.0507678886499832\n",
      "1.0162102271983535\n",
      "0.9830152724830663\n",
      "0.9511292891073622\n",
      "0.9205006606137827\n",
      "0.8910798059283807\n",
      "0.8628190990997695\n",
      "0.8356727922030838\n",
      "0.8095969412840615\n",
      "0.7845493352233613\n",
      "0.760489427405957\n",
      "0.7373782700850086\n",
      "0.7151784513339468\n",
      "0.6938540344847189\n",
      "0.6733704999541557\n",
      "0.6536946893642873\n",
      "0.6347947518661619\n",
      "0.6166400925802552\n",
      "0.5992013230700366\n",
      "0.5824502137684935\n",
      "0.5663596482806109\n",
      "0.5509035794878414\n",
      "0.5360569873834994\n",
      "0.521795838570818\n",
      "0.5080970473581209\n",
      "0.49493843838812196\n",
      "0.48229871074084796\n",
      "0.4701574034520991\n",
      "0.45849486239160203\n",
      "0.4472922084472593\n",
      "0.436531306963981\n",
      "0.42619473838763006\n",
      "0.41626577006656257\n",
      "0.40672832916511015\n"
     ]
    }
   ],
   "source": [
    "for i in range (100):\n",
    "    outputs = np.dot(inputs,weights) + biases\n",
    "    deltas = outputs - targets\n",
    "    \n",
    "    #Calculate loss with L2 norm\n",
    "    #We divide by 2 because of the derivation for the gradient descent\n",
    "    #We divide by the observations to get the mean loss\n",
    "    loss = np.sum(deltas**2)/2/observations\n",
    "    \n",
    "    print(loss)\n",
    "    \n",
    "    #update weights and biases\n",
    "    \n",
    "    deltas_scaled = deltas/observations\n",
    "    \n",
    "    weights = weights - eta*np.dot(inputs.T,deltas_scaled)\n",
    "    biases = biases - eta*np.sum(deltas_scaled)"
   ]
  },
  {
   "cell_type": "markdown",
   "id": "aeb62abb",
   "metadata": {},
   "source": [
    "### print weights and biases and see if they have worked correctly"
   ]
  },
  {
   "cell_type": "code",
   "execution_count": null,
   "id": "fb5c5d31",
   "metadata": {},
   "outputs": [],
   "source": []
  },
  {
   "cell_type": "markdown",
   "id": "d983f1c8",
   "metadata": {},
   "source": [
    "### Plot last output vs targets\n",
    "\n",
    "Since the are the last ones at the end of the training, they represent the final model accuracy. The closer this plot is to a 45 degree line, the closer target and output values are."
   ]
  },
  {
   "cell_type": "code",
   "execution_count": null,
   "id": "f0298895",
   "metadata": {},
   "outputs": [],
   "source": []
  }
 ],
 "metadata": {
  "kernelspec": {
   "display_name": "pytf2.0",
   "language": "python",
   "name": "pytf2.0"
  },
  "language_info": {
   "codemirror_mode": {
    "name": "ipython",
    "version": 3
   },
   "file_extension": ".py",
   "mimetype": "text/x-python",
   "name": "python",
   "nbconvert_exporter": "python",
   "pygments_lexer": "ipython3",
   "version": "3.10.0"
  }
 },
 "nbformat": 4,
 "nbformat_minor": 5
}
