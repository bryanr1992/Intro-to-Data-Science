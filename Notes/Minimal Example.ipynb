{
 "cells": [
  {
   "cell_type": "markdown",
   "id": "b917bb90",
   "metadata": {},
   "source": [
    "# Simple Linear Regression. Minimal example"
   ]
  },
  {
   "cell_type": "markdown",
   "id": "531062a8",
   "metadata": {},
   "source": [
    "### Import the relevant libraries"
   ]
  },
  {
   "cell_type": "code",
   "execution_count": 3,
   "id": "a93dcca7",
   "metadata": {},
   "outputs": [],
   "source": [
    "import numpy as np\n",
    "from matplotlib import pyplot as plt\n",
    "from mpl_toolkits.mplot3d import Axes3D"
   ]
  },
  {
   "cell_type": "markdown",
   "id": "706cf5ff",
   "metadata": {},
   "source": [
    "### Generate random input data to train on"
   ]
  },
  {
   "cell_type": "code",
   "execution_count": 5,
   "id": "bc125e70",
   "metadata": {},
   "outputs": [
    {
     "name": "stdout",
     "output_type": "stream",
     "text": [
      "(1000, 2)\n"
     ]
    }
   ],
   "source": [
    "# This is fake data with a linear relationship to prove our approache\n",
    "\n",
    "observations = 1000\n",
    "\n",
    "#f(x,z) = a*x + b*z + c\n",
    "xs = np.random.uniform(low=-10,high=10,size=(observations,1))\n",
    "zs  = np.random.uniform(-10,10,(observations,1))\n",
    "\n",
    "inputs = np.column_stack((xs,zs))\n",
    "\n",
    "print(inputs.shape)"
   ]
  },
  {
   "cell_type": "markdown",
   "id": "869a188c",
   "metadata": {},
   "source": [
    "### Create the targets we will aim at"
   ]
  },
  {
   "cell_type": "code",
   "execution_count": null,
   "id": "0dfb7496",
   "metadata": {},
   "outputs": [],
   "source": [
    "# targets = f(x,z) = 2*x - 3*z + 5 + noise. We introduce noise because real da-\n",
    "# ta is never perfect, there is always some noise. Even with the noise the \n",
    "# underlying linear relationship will remain.\n",
    "\n",
    "noise = np.random.uniform(-1.1,(observations,1))\n",
    "target = 2*xs - 3*zs + 5 + nooise\n",
    "\n",
    "print(target.shape)\n"
   ]
  },
  {
   "cell_type": "markdown",
   "id": "63827fb7",
   "metadata": {},
   "source": [
    "### Plot the training data\n",
    "\n",
    "The point is to see that there is a strong trend that our model should learn to reproduce"
   ]
  }
 ],
 "metadata": {
  "kernelspec": {
   "display_name": "pytf2.0",
   "language": "python",
   "name": "pytf2.0"
  },
  "language_info": {
   "codemirror_mode": {
    "name": "ipython",
    "version": 3
   },
   "file_extension": ".py",
   "mimetype": "text/x-python",
   "name": "python",
   "nbconvert_exporter": "python",
   "pygments_lexer": "ipython3",
   "version": "3.10.0"
  }
 },
 "nbformat": 4,
 "nbformat_minor": 5
}
