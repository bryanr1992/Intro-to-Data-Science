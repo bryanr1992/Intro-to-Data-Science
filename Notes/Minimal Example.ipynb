{
 "cells": [
  {
   "cell_type": "markdown",
   "id": "3fd83f65",
   "metadata": {},
   "source": [
    "# Simple Linear Regression. Minimal example"
   ]
  },
  {
   "cell_type": "markdown",
   "id": "05cc1ba3",
   "metadata": {},
   "source": [
    "### Import the relevant libraries"
   ]
  },
  {
   "cell_type": "code",
   "execution_count": 36,
   "id": "4991f422",
   "metadata": {},
   "outputs": [],
   "source": [
    "import numpy as np\n",
    "from matplotlib import pyplot as plt\n",
    "from mpl_toolkits.mplot3d import Axes3D"
   ]
  },
  {
   "cell_type": "markdown",
   "id": "cb5ace34",
   "metadata": {},
   "source": [
    "### Generate random input data to train on"
   ]
  },
  {
   "cell_type": "code",
   "execution_count": 37,
   "id": "5a7554bc",
   "metadata": {},
   "outputs": [
    {
     "name": "stdout",
     "output_type": "stream",
     "text": [
      "(1000, 2)\n"
     ]
    }
   ],
   "source": [
    "# This is fake data with a linear relationship to prove our approache\n",
    "\n",
    "observations = 1000\n",
    "\n",
    "#f(x,z) = a*x + b*z + c\n",
    "xs = np.random.uniform(low=-10,high=10,size=(observations,1))\n",
    "zs  = np.random.uniform(-10,10,(observations,1))\n",
    "\n",
    "inputs = np.column_stack((xs,zs))\n",
    "\n",
    "print(inputs.shape)"
   ]
  },
  {
   "cell_type": "markdown",
   "id": "288c0244",
   "metadata": {},
   "source": [
    "### Create the targets we will aim at"
   ]
  },
  {
   "cell_type": "code",
   "execution_count": 38,
   "id": "b1b1c850",
   "metadata": {},
   "outputs": [
    {
     "name": "stdout",
     "output_type": "stream",
     "text": [
      "(1000, 1)\n"
     ]
    }
   ],
   "source": [
    "# targets = f(x,z) = 2*x - 3*z + 5 + noise. We introduce noise because real da-\n",
    "# ta is never perfect, there is always some noise. Even with the noise the \n",
    "# underlying linear relationship will remain.\n",
    "\n",
    "noise = np.random.uniform(-1,1,(observations,1))\n",
    "targets = 2*xs - 3*zs + 5 + noise\n",
    "\n",
    "print(targets.shape)\n"
   ]
  },
  {
   "cell_type": "markdown",
   "id": "39e95b5d",
   "metadata": {},
   "source": [
    "### Plot the training data\n",
    "\n",
    "The point is to see that there is a strong trend that our model should learn to reproduce"
   ]
  },
  {
   "cell_type": "code",
   "execution_count": 39,
   "id": "a310f947",
   "metadata": {},
   "outputs": [
    {
     "data": {
      "image/png": "[encoded data removed]",
      "text/plain": [
       "<Figure size 432x288 with 1 Axes>"
      ]
     },
     "metadata": {
      "needs_background": "light"
     },
     "output_type": "display_data"
    }
   ],
   "source": [
    "targets= targets.reshape(observations,)\n",
    "xs = xs.reshape(observations,)\n",
    "fig = plt.figure()\n",
    "ax = fig.add_subplot(111, projection='3d')\n",
    "ax.plot(xs,zs,targets)\n",
    "ax.set_xlabel('xs')\n",
    "ax.set_ylabel('zs')\n",
    "ax.set_zlabel('Targets')\n",
    "ax.view_init(azim=100)\n",
    "plt.show()\n",
    "targets = targets.reshape(observations,1)\n",
    "xs = xs.reshape(observations,1)\n",
    "\n",
    "# In 3D linear relationships are a plane and in 2D a straight line"
   ]
  },
  {
   "cell_type": "markdown",
   "id": "99c098a7",
   "metadata": {},
   "source": [
    "### Initialize variables"
   ]
  },
  {
   "cell_type": "code",
   "execution_count": 40,
   "id": "cf026c20",
   "metadata": {},
   "outputs": [
    {
     "name": "stdout",
     "output_type": "stream",
     "text": [
      "(2, 1)\n",
      "(1,)\n",
      "[[-0.01752124]\n",
      " [ 0.09568829]]\n",
      "[0.01198254]\n"
     ]
    }
   ],
   "source": [
    "# We are going to pick our initial weights and biases randomly from the int-\n",
    "# erval [-0.1,0.1]\n",
    "\n",
    "init_range = 0.1\n",
    "\n",
    "weights = np.random.uniform(-init_range, init_range, size=(2,1))\n",
    "biases = np.random.uniform(-init_range, init_range, size=1)\n",
    "\n",
    "print(weights.shape)\n",
    "print(biases.shape)\n",
    "\n",
    "print(weights)\n",
    "print(biases)"
   ]
  },
  {
   "cell_type": "markdown",
   "id": "b9c0fb88",
   "metadata": {},
   "source": [
    "### Set a learning rate"
   ]
  },
  {
   "cell_type": "code",
   "execution_count": 50,
   "id": "90e0972d",
   "metadata": {},
   "outputs": [],
   "source": [
    "eta = 0.001"
   ]
  },
  {
   "cell_type": "markdown",
   "id": "05b117d8",
   "metadata": {},
   "source": [
    "### Train the model"
   ]
  },
  {
   "cell_type": "code",
   "execution_count": 51,
   "id": "23150771",
   "metadata": {},
   "outputs": [
    {
     "name": "stdout",
     "output_type": "stream",
     "text": [
      "0.16793969830226024\n",
      "0.16793969591782168\n",
      "0.16793969353814334\n",
      "0.16793969116321572\n",
      "0.1679396887930293\n",
      "0.16793968642757476\n",
      "0.16793968406684237\n",
      "0.16793968171082288\n",
      "0.1679396793595069\n",
      "0.167939677012885\n",
      "0.1679396746709478\n",
      "0.16793967233368598\n",
      "0.1679396700010901\n",
      "0.16793966767315108\n",
      "0.16793966534985943\n",
      "0.16793966303120592\n",
      "0.16793966071718125\n",
      "0.16793965840777617\n",
      "0.16793965610298148\n",
      "0.1679396538027881\n",
      "0.16793965150718668\n",
      "0.16793964921616822\n",
      "0.16793964692972332\n",
      "0.16793964464784308\n",
      "0.1679396423705183\n",
      "0.16793964009773993\n",
      "0.1679396378294988\n",
      "0.16793963556578592\n",
      "0.16793963330659228\n",
      "0.16793963105190865\n",
      "0.16793962880172636\n",
      "0.16793962655603614\n",
      "0.16793962431482926\n",
      "0.16793962207809654\n",
      "0.16793961984582917\n",
      "0.16793961761801823\n",
      "0.16793961539465477\n",
      "0.16793961317572997\n",
      "0.16793961096123503\n",
      "0.167939608751161\n",
      "0.16793960654549894\n",
      "0.16793960434424038\n",
      "0.16793960214737622\n",
      "0.1679395999548978\n",
      "0.16793959776679643\n",
      "0.1679395955830633\n",
      "0.16793959340368958\n",
      "0.16793959122866678\n",
      "0.1679395890579861\n",
      "0.1679395868916389\n",
      "0.16793958472961654\n",
      "0.16793958257191033\n",
      "0.1679395804185117\n",
      "0.16793957826941197\n",
      "0.16793957612460275\n",
      "0.16793957398407525\n",
      "0.16793957184782107\n",
      "0.16793956971583165\n",
      "0.16793956758809844\n",
      "0.16793956546461286\n",
      "0.16793956334536667\n",
      "0.16793956123035123\n",
      "0.16793955911955805\n",
      "0.16793955701297886\n",
      "0.16793955491060517\n",
      "0.16793955281242853\n",
      "0.16793955071844072\n",
      "0.1679395486286332\n",
      "0.16793954654299767\n",
      "0.16793954446152579\n",
      "0.16793954238420933\n",
      "0.1679395403110401\n",
      "0.16793953824200947\n",
      "0.1679395361771094\n",
      "0.16793953411633178\n",
      "0.16793953205966808\n",
      "0.1679395300071102\n",
      "0.16793952795865005\n",
      "0.16793952591427933\n",
      "0.16793952387399003\n",
      "0.16793952183777375\n",
      "0.16793951980562255\n",
      "0.16793951777752822\n",
      "0.16793951575348273\n",
      "0.167939513733478\n",
      "0.16793951171750604\n",
      "0.16793950970555854\n",
      "0.16793950769762755\n",
      "0.16793950569370525\n",
      "0.16793950369378355\n",
      "0.16793950169785438\n",
      "0.1679394997059097\n",
      "0.16793949771794178\n",
      "0.1679394957339425\n",
      "0.16793949375390416\n",
      "0.1679394917778185\n",
      "0.1679394898056779\n",
      "0.16793948783747445\n",
      "0.16793948587320023\n",
      "0.1679394839128474\n"
     ]
    }
   ],
   "source": [
    "for i in range (100):\n",
    "    outputs = np.dot(inputs,weights) + biases\n",
    "    deltas = outputs - targets\n",
    "    \n",
    "    #Calculate loss with L2 norm\n",
    "    #We divide by 2 because of the derivation for the gradient descent\n",
    "    #We divide by the observations to get the mean loss\n",
    "    loss = np.sum(deltas**2)/2/observations\n",
    "    \n",
    "    print(loss)\n",
    "    \n",
    "    #update weights and biases\n",
    "    \n",
    "    deltas_scaled = deltas/observations\n",
    "    \n",
    "    weights = weights - eta*np.dot(inputs.T,deltas_scaled)\n",
    "    biases = biases - eta*np.sum(deltas_scaled)"
   ]
  },
  {
   "cell_type": "markdown",
   "id": "32fcb25d",
   "metadata": {},
   "source": [
    "### print weights and biases and see if they have worked correctly"
   ]
  },
  {
   "cell_type": "code",
   "execution_count": 52,
   "id": "e9f83a79",
   "metadata": {},
   "outputs": [
    {
     "name": "stdout",
     "output_type": "stream",
     "text": [
      "[[ 2.0000671 ]\n",
      " [-3.00054469]] [4.97259778]\n"
     ]
    }
   ],
   "source": [
    "print(weights, biases)\n",
    "# Recall our targets were defined by t = f(x,z) = 2*xs - 3*zs + 5 + noise"
   ]
  },
  {
   "cell_type": "markdown",
   "id": "ed52db04",
   "metadata": {},
   "source": [
    "### Plot last output vs targets\n",
    "\n",
    "Since the are the last ones at the end of the training, they represent the final model accuracy. The closer this plot is to a 45 degree line, the closer target and output values are."
   ]
  },
  {
   "cell_type": "code",
   "execution_count": 53,
   "id": "1691e514",
   "metadata": {},
   "outputs": [
    {
     "data": {
      "image/png": "[encoded data removed]",
      "text/plain": [
       "<Figure size 432x288 with 1 Axes>"
      ]
     },
     "metadata": {
      "needs_background": "light"
     },
     "output_type": "display_data"
    }
   ],
   "source": [
    "plt.plot(outputs, targets)\n",
    "plt.xlabel('outputs')\n",
    "plt.ylabel('targets')\n",
    "plt.show()"
   ]
  },
  {
   "cell_type": "code",
   "execution_count": null,
   "id": "60f5a92d",
   "metadata": {},
   "outputs": [],
   "source": [
    "# We can see that "
   ]
  }
 ],
 "metadata": {
  "kernelspec": {
   "display_name": "pytf2.0",
   "language": "python",
   "name": "pytf2.0"
  },
  "language_info": {
   "codemirror_mode": {
    "name": "ipython",
    "version": 3
   },
   "file_extension": ".py",
   "mimetype": "text/x-python",
   "name": "python",
   "nbconvert_exporter": "python",
   "pygments_lexer": "ipython3",
   "version": "3.10.0"
  }
 },
 "nbformat": 4,
 "nbformat_minor": 5
}
