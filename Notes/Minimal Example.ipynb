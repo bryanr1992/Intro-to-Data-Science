{
 "cells": [
  {
   "cell_type": "markdown",
   "id": "bdc7f503",
   "metadata": {},
   "source": [
    "# Simple Linear Regression. Minimal example"
   ]
  },
  {
   "cell_type": "markdown",
   "id": "a4d12d28",
   "metadata": {},
   "source": [
    "### Import the relevant libraries"
   ]
  },
  {
   "cell_type": "code",
   "execution_count": 3,
   "id": "77c8cfa3",
   "metadata": {},
   "outputs": [],
   "source": [
    "import numpy as np\n",
    "from matplotlib import pyplot as plt\n",
    "from mpl_toolkits.mplot3d import Axes3D"
   ]
  },
  {
   "cell_type": "markdown",
   "id": "e1a8fee6",
   "metadata": {},
   "source": [
    "### Generate random input data to train on"
   ]
  },
  {
   "cell_type": "code",
   "execution_count": null,
   "id": "47758d85",
   "metadata": {},
   "outputs": [],
   "source": [
    "# This is fake data with a linear relationship to prove our approache\n",
    "\n",
    "observations = 1000\n",
    "\n",
    "#f(x,z) = a*x + b*z + c\n",
    "xs = np.random.uniform(low=-10,high=10,size=(observations,1))\n",
    "zs  = np.random.unifor(-10,10,(observations,1))\n",
    "\n",
    "inputs = np.column_stack((xs,zs))"
   ]
  },
  {
   "cell_type": "markdown",
   "id": "40f64faa",
   "metadata": {},
   "source": [
    "### Create the targets we will aim at"
   ]
  },
  {
   "cell_type": "code",
   "execution_count": null,
   "id": "0a2db46d",
   "metadata": {},
   "outputs": [],
   "source": []
  },
  {
   "cell_type": "markdown",
   "id": "c70c1cd3",
   "metadata": {},
   "source": [
    "### Plot the training data\n",
    "\n",
    "The point is to see that there is a strong trend that our model should learn to reproduce"
   ]
  }
 ],
 "metadata": {
  "kernelspec": {
   "display_name": "pytf2.0",
   "language": "python",
   "name": "pytf2.0"
  },
  "language_info": {
   "codemirror_mode": {
    "name": "ipython",
    "version": 3
   },
   "file_extension": ".py",
   "mimetype": "text/x-python",
   "name": "python",
   "nbconvert_exporter": "python",
   "pygments_lexer": "ipython3",
   "version": "3.10.0"
  }
 },
 "nbformat": 4,
 "nbformat_minor": 5
}
